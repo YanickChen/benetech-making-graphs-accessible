{
 "cells": [
  {
   "cell_type": "code",
   "execution_count": 1,
   "id": "3f5ca6eb",
   "metadata": {
    "execution": {
     "iopub.execute_input": "2023-06-15T15:18:38.899272Z",
     "iopub.status.busy": "2023-06-15T15:18:38.898916Z",
     "iopub.status.idle": "2023-06-15T15:18:38.903518Z",
     "shell.execute_reply": "2023-06-15T15:18:38.902723Z"
    },
    "papermill": {
     "duration": 0.01457,
     "end_time": "2023-06-15T15:18:38.907514",
     "exception": false,
     "start_time": "2023-06-15T15:18:38.892944",
     "status": "completed"
    },
    "tags": []
   },
   "outputs": [],
   "source": [
    "# !pip uninstall -y transformers\n",
    "# !mkdir temp && cp -r /kaggle/input/transformers-main-09082023 temp/transformers && cd temp/transformers && python setup.py develop --no-deps"
   ]
  },
  {
   "cell_type": "code",
   "execution_count": 2,
   "id": "7c5d0981",
   "metadata": {
    "execution": {
     "iopub.execute_input": "2023-06-15T15:18:38.916784Z",
     "iopub.status.busy": "2023-06-15T15:18:38.916514Z",
     "iopub.status.idle": "2023-06-15T15:18:49.732135Z",
     "shell.execute_reply": "2023-06-15T15:18:49.730987Z"
    },
    "papermill": {
     "duration": 10.822913,
     "end_time": "2023-06-15T15:18:49.734651",
     "exception": false,
     "start_time": "2023-06-15T15:18:38.911738",
     "status": "completed"
    },
    "tags": []
   },
   "outputs": [
    {
     "name": "stdout",
     "output_type": "stream",
     "text": [
      "Name: transformers\r\n",
      "Version: 4.29.2\r\n",
      "Summary: State-of-the-art Machine Learning for JAX, PyTorch and TensorFlow\r\n",
      "Home-page: https://github.com/huggingface/transformers\r\n",
      "Author: The Hugging Face team (past and future) with the help of all our contributors (https://github.com/huggingface/transformers/graphs/contributors)\r\n",
      "Author-email: transformers@huggingface.co\r\n",
      "License: Apache 2.0 License\r\n",
      "Location: /opt/conda/lib/python3.10/site-packages\r\n",
      "Requires: filelock, huggingface-hub, numpy, packaging, pyyaml, regex, requests, tokenizers, tqdm\r\n",
      "Required-by: \r\n"
     ]
    }
   ],
   "source": [
    "!pip show transformers"
   ]
  },
  {
   "cell_type": "code",
   "execution_count": 3,
   "id": "774d5ac2",
   "metadata": {
    "execution": {
     "iopub.execute_input": "2023-06-15T15:18:49.744926Z",
     "iopub.status.busy": "2023-06-15T15:18:49.744606Z",
     "iopub.status.idle": "2023-06-15T15:18:49.749424Z",
     "shell.execute_reply": "2023-06-15T15:18:49.748288Z"
    },
    "papermill": {
     "duration": 0.012163,
     "end_time": "2023-06-15T15:18:49.751349",
     "exception": false,
     "start_time": "2023-06-15T15:18:49.739186",
     "status": "completed"
    },
    "tags": []
   },
   "outputs": [],
   "source": [
    "import sys\n",
    "sys.path.insert(0, \"/kaggle/working/temp/transformers/src/\")"
   ]
  },
  {
   "cell_type": "code",
   "execution_count": 4,
   "id": "1ef640e9",
   "metadata": {
    "execution": {
     "iopub.execute_input": "2023-06-15T15:18:49.761261Z",
     "iopub.status.busy": "2023-06-15T15:18:49.760492Z",
     "iopub.status.idle": "2023-06-15T15:19:02.626347Z",
     "shell.execute_reply": "2023-06-15T15:19:02.625391Z"
    },
    "papermill": {
     "duration": 12.873195,
     "end_time": "2023-06-15T15:19:02.628649",
     "exception": false,
     "start_time": "2023-06-15T15:18:49.755454",
     "status": "completed"
    },
    "tags": []
   },
   "outputs": [
    {
     "name": "stderr",
     "output_type": "stream",
     "text": [
      "/opt/conda/lib/python3.10/site-packages/tensorflow_io/python/ops/__init__.py:98: UserWarning: unable to load libtensorflow_io_plugins.so: unable to open file: libtensorflow_io_plugins.so, from paths: ['/opt/conda/lib/python3.10/site-packages/tensorflow_io/python/ops/libtensorflow_io_plugins.so']\n",
      "caused by: ['/opt/conda/lib/python3.10/site-packages/tensorflow_io/python/ops/libtensorflow_io_plugins.so: undefined symbol: _ZN3tsl6StatusC1EN10tensorflow5error4CodeESt17basic_string_viewIcSt11char_traitsIcEENS_14SourceLocationE']\n",
      "  warnings.warn(f\"unable to load libtensorflow_io_plugins.so: {e}\")\n",
      "/opt/conda/lib/python3.10/site-packages/tensorflow_io/python/ops/__init__.py:104: UserWarning: file system plugins are not loaded: unable to open file: libtensorflow_io.so, from paths: ['/opt/conda/lib/python3.10/site-packages/tensorflow_io/python/ops/libtensorflow_io.so']\n",
      "caused by: ['/opt/conda/lib/python3.10/site-packages/tensorflow_io/python/ops/libtensorflow_io.so: undefined symbol: _ZTVN10tensorflow13GcsFileSystemE']\n",
      "  warnings.warn(f\"file system plugins are not loaded: {e}\")\n"
     ]
    }
   ],
   "source": [
    "import pandas as pd\n",
    "import io\n",
    "import torch\n",
    "from transformers import Pix2StructForConditionalGeneration, Pix2StructProcessor\n",
    "import requests\n",
    "from PIL import Image\n",
    "import re\n",
    "\n",
    "import torch\n",
    "import torchvision\n",
    "import torch.utils.data\n",
    "from torchvision import transforms\n",
    "import torch.nn as nn\n",
    "import torch.nn.functional as F\n",
    "import torch.optim as optim\n",
    "from torch.optim import lr_scheduler\n",
    "import albumentations as A\n",
    "from albumentations.pytorch import ToTensorV2\n",
    "\n",
    "import cv2\n",
    "import numpy as np\n",
    "\n",
    "import os\n",
    "from tqdm import tqdm\n",
    "import math"
   ]
  },
  {
   "cell_type": "code",
   "execution_count": 5,
   "id": "37b081eb",
   "metadata": {
    "execution": {
     "iopub.execute_input": "2023-06-15T15:19:02.639174Z",
     "iopub.status.busy": "2023-06-15T15:19:02.638887Z",
     "iopub.status.idle": "2023-06-15T15:19:02.649629Z",
     "shell.execute_reply": "2023-06-15T15:19:02.648816Z"
    },
    "papermill": {
     "duration": 0.018145,
     "end_time": "2023-06-15T15:19:02.651366",
     "exception": false,
     "start_time": "2023-06-15T15:19:02.633221",
     "status": "completed"
    },
    "tags": []
   },
   "outputs": [],
   "source": [
    "def display_deplot_output(deplot_output, visualize=True):\n",
    "    '''\n",
    "    The raw output of deplot\n",
    "    TITLE | Rural population (%) long-run with 2050 projections<0x0A>(OWID) in Greece<0x0A>Years | Rural population<0x0A>1940 | 47.38<0x0A>1960 | 43.68<0x0A>1980 | 30.28<0x0A>...\n",
    "    '''\n",
    "\n",
    "    # x1,x2 <> y1 y2\n",
    "    # x1 | y1 <0x0A> x2 | y2 <0x0A>\n",
    "    # label xxxxyyy xyxyxyxy\n",
    "    deplot_output = deplot_output.replace(\"<0x0A>\", \"\\n\").replace(\" | \", \"\\t\")\n",
    "#     second_a_index = [m.start() for m in re.finditer('\\t', deplot_output)][1]\n",
    "#     last_newline_index = deplot_output.rfind('\\n', 0, second_a_index) \n",
    "\n",
    "#     title = deplot_output[:last_newline_index]\n",
    "#     table = deplot_output#[last_newline_index+1:]\n",
    "    table = deplot_output\n",
    "    data = io.StringIO(table)\n",
    "    df = pd.read_csv(data, sep='\\t', names=['x', 'y'])\n",
    "    if visualize:\n",
    "        display(df)\n",
    "    \n",
    "    return df\n",
    "    \n",
    "\n",
    "def deplot(path, model, processor, device, visualize=True):\n",
    "    image = Image.open(path)\n",
    "    if visualize:\n",
    "        display(image)\n",
    "    inputs = processor(images=image, \n",
    "                       font_path=\"../input/arial-font/arial.ttf\",\n",
    "                       text=\"Generate underlying data table of the figure below:\", \n",
    "                       return_tensors=\"pt\", \n",
    "                       add_special_tokens=True, \n",
    "                       max_patches=2048,\n",
    "                       is_vqa=False)\n",
    "\n",
    "    # Move inputs to GPU\n",
    "    inputs = {key: value.to(device) for key, value in inputs.items()}\n",
    "    with torch.cuda.amp.autocast():\n",
    "        predictions = model.generate(**inputs, max_new_tokens=512)\n",
    "#     predictions = model.generate(**inputs, max_new_tokens=512)\n",
    "    return processor.decode(predictions[0], skip_special_tokens=True)\n",
    "\n",
    "\n",
    "def deplot_inference(image_path, visualize):\n",
    "    deplot_output=deplot(image_path, deplot_model, processor, device, visualize)\n",
    "    print(deplot_output)\n",
    "    return display_deplot_output(deplot_output, visualize)"
   ]
  },
  {
   "cell_type": "code",
   "execution_count": 6,
   "id": "f8909b6e",
   "metadata": {
    "execution": {
     "iopub.execute_input": "2023-06-15T15:19:02.661147Z",
     "iopub.status.busy": "2023-06-15T15:19:02.660492Z",
     "iopub.status.idle": "2023-06-15T15:19:26.982884Z",
     "shell.execute_reply": "2023-06-15T15:19:26.981892Z"
    },
    "papermill": {
     "duration": 24.329729,
     "end_time": "2023-06-15T15:19:26.985217",
     "exception": false,
     "start_time": "2023-06-15T15:19:02.655488",
     "status": "completed"
    },
    "tags": []
   },
   "outputs": [
    {
     "data": {
      "text/plain": [
       "<All keys matched successfully>"
      ]
     },
     "execution_count": 6,
     "metadata": {},
     "output_type": "execute_result"
    }
   ],
   "source": [
    "deplot_weights_path = '../input/matcha-base/matcha-base'\n",
    "model_path = '../input/checkpoints/matcha_xyxy_epoch_3_loss_0.7827.bin'\n",
    "device = torch.device(\"cuda\" if torch.cuda.is_available() else \"cpu\")\n",
    "processor = Pix2StructProcessor.from_pretrained(deplot_weights_path)\n",
    "deplot_model = Pix2StructForConditionalGeneration.from_pretrained(deplot_weights_path).to(device)\n",
    "deplot_model.resize_token_embeddings(len(processor.tokenizer))\n",
    "deplot_model.config.text_config.is_decoder = True\n",
    "deplot_model.encoder.gradient_checkpointing_enable()\n",
    "deplot_model.decoder.gradient_checkpointing_enable()\n",
    "deplot_model.load_state_dict(torch.load(model_path))\n",
    "# processor.is_vqa = False"
   ]
  },
  {
   "cell_type": "code",
   "execution_count": 7,
   "id": "b2b14454",
   "metadata": {
    "execution": {
     "iopub.execute_input": "2023-06-15T15:19:26.995652Z",
     "iopub.status.busy": "2023-06-15T15:19:26.995330Z",
     "iopub.status.idle": "2023-06-15T15:19:27.001039Z",
     "shell.execute_reply": "2023-06-15T15:19:27.000203Z"
    },
    "papermill": {
     "duration": 0.013158,
     "end_time": "2023-06-15T15:19:27.003028",
     "exception": false,
     "start_time": "2023-06-15T15:19:26.989870",
     "status": "completed"
    },
    "tags": []
   },
   "outputs": [],
   "source": [
    "label_map = {'dot': 0, 'horizontal_bar' : 1, 'vertical_bar': 2, 'line': 3, 'scatter': 4}\n",
    "label_idx_to_classname = {v: k for k, v in label_map.items()}"
   ]
  },
  {
   "cell_type": "code",
   "execution_count": 8,
   "id": "3de25b63",
   "metadata": {
    "execution": {
     "iopub.execute_input": "2023-06-15T15:19:27.012738Z",
     "iopub.status.busy": "2023-06-15T15:19:27.012448Z",
     "iopub.status.idle": "2023-06-15T15:19:28.150460Z",
     "shell.execute_reply": "2023-06-15T15:19:28.149179Z"
    },
    "papermill": {
     "duration": 1.147788,
     "end_time": "2023-06-15T15:19:28.155101",
     "exception": false,
     "start_time": "2023-06-15T15:19:27.007313",
     "status": "completed"
    },
    "tags": []
   },
   "outputs": [
    {
     "name": "stderr",
     "output_type": "stream",
     "text": [
      "/opt/conda/lib/python3.10/site-packages/torchvision/models/_utils.py:208: UserWarning: The parameter 'pretrained' is deprecated since 0.13 and may be removed in the future, please use 'weights' instead.\n",
      "  warnings.warn(\n",
      "/opt/conda/lib/python3.10/site-packages/torchvision/models/_utils.py:223: UserWarning: Arguments other than a weight enum or `None` for 'weights' are deprecated since 0.13 and may be removed in the future. The current behavior is equivalent to passing `weights=None`.\n",
      "  warnings.warn(msg)\n"
     ]
    },
    {
     "data": {
      "text/plain": [
       "<All keys matched successfully>"
      ]
     },
     "execution_count": 8,
     "metadata": {},
     "output_type": "execute_result"
    }
   ],
   "source": [
    "classification_model = torchvision.models.resnet50(pretrained=False)\n",
    "\n",
    "num_features = classification_model.fc.in_features\n",
    "classification_model.fc = nn.Linear(num_features, 5)\n",
    "device = torch.device(\"cuda:0\" if torch.cuda.is_available() else \"cpu\")\n",
    "classification_model = classification_model.to(device)\n",
    "classification_model.eval()\n",
    "\n",
    "state_dict = torch.load(\"../input/checkpoints/Benetech_ResNet50_Acc_87.2093.pth\")\n",
    "classification_model.load_state_dict(state_dict)"
   ]
  },
  {
   "cell_type": "code",
   "execution_count": 9,
   "id": "b772a188",
   "metadata": {
    "execution": {
     "iopub.execute_input": "2023-06-15T15:19:28.171594Z",
     "iopub.status.busy": "2023-06-15T15:19:28.171297Z",
     "iopub.status.idle": "2023-06-15T15:19:28.182178Z",
     "shell.execute_reply": "2023-06-15T15:19:28.180463Z"
    },
    "papermill": {
     "duration": 0.021386,
     "end_time": "2023-06-15T15:19:28.184466",
     "exception": false,
     "start_time": "2023-06-15T15:19:28.163080",
     "status": "completed"
    },
    "tags": []
   },
   "outputs": [],
   "source": [
    "# val_transforms = transforms.Compose(\n",
    "#     [transforms.ToTensor(),\n",
    "#      transforms.Normalize((0.5, 0.5, 0.5), (0.5, 0.5, 0.5))])\n",
    "\n",
    "val_transforms = A.Compose([\n",
    "    A.Resize(288,288,p=1),\n",
    "#     A.Resize(500,300,p=1),\n",
    "#     A.Normalize((0.485, 0.456, 0.406), (0.229, 0.224, 0.225)),\n",
    "    A.Normalize((0.5, 0.5, 0.5), (0.5, 0.5, 0.5)),\n",
    "    ToTensorV2(),\n",
    "])"
   ]
  },
  {
   "cell_type": "code",
   "execution_count": 10,
   "id": "18f5e2a1",
   "metadata": {
    "execution": {
     "iopub.execute_input": "2023-06-15T15:19:28.202348Z",
     "iopub.status.busy": "2023-06-15T15:19:28.201904Z",
     "iopub.status.idle": "2023-06-15T15:19:28.209164Z",
     "shell.execute_reply": "2023-06-15T15:19:28.208507Z"
    },
    "papermill": {
     "duration": 0.01642,
     "end_time": "2023-06-15T15:19:28.211092",
     "exception": false,
     "start_time": "2023-06-15T15:19:28.194672",
     "status": "completed"
    },
    "tags": []
   },
   "outputs": [],
   "source": [
    "def classification_inference(image_path):\n",
    "    img = cv2.imread(image_path)\n",
    "    img = cv2.cvtColor(img,cv2.COLOR_BGR2RGB)\n",
    "#     img = cv2.resize(img,(500,300))\n",
    "#     img = img.astype(np.float32)/255.0\n",
    "    img = val_transforms(image=img)['image']\n",
    "    \n",
    "#     print(img.shape)\n",
    "    \n",
    "#     inp = torch.stack([img.permute(1, 2, 0)]).cuda()\n",
    "    inp = torch.stack([img]).cuda()\n",
    "    out = classification_model(inp).detach().cpu().numpy()\n",
    "    return label_idx_to_classname[np.argmax(out)]"
   ]
  },
  {
   "cell_type": "code",
   "execution_count": 11,
   "id": "df4e96c6",
   "metadata": {
    "execution": {
     "iopub.execute_input": "2023-06-15T15:19:28.221600Z",
     "iopub.status.busy": "2023-06-15T15:19:28.221107Z",
     "iopub.status.idle": "2023-06-15T15:19:56.221098Z",
     "shell.execute_reply": "2023-06-15T15:19:56.220199Z"
    },
    "papermill": {
     "duration": 28.007593,
     "end_time": "2023-06-15T15:19:56.223214",
     "exception": false,
     "start_time": "2023-06-15T15:19:28.215621",
     "status": "completed"
    },
    "tags": []
   },
   "outputs": [
    {
     "name": "stderr",
     "output_type": "stream",
     "text": [
      " 20%|██        | 1/5 [00:05<00:21,  5.40s/it]"
     ]
    },
    {
     "name": "stdout",
     "output_type": "stream",
     "text": [
      "0 | 0 <0x0A> 6 | 0 <0x0A> 12 | 0 <0x0A> 24 | 0\n"
     ]
    },
    {
     "name": "stderr",
     "output_type": "stream",
     "text": [
      " 40%|████      | 2/5 [00:09<00:14,  4.75s/it]"
     ]
    },
    {
     "name": "stdout",
     "output_type": "stream",
     "text": [
      "2-1-fed | 88625 <0x0A> 22-Fed | 150400 <0x0A> 22-Fed | 174200 <0x0A> 24-Fed | 180000 <0x0A> 26-Fed | 137800 <0x0A> 27-Fed | 40 <0x0A> 28-Fed | 40 <0x0A> 23-Fed | 60 <0x0A> 21-Mar | 65 <0x0A> 22-Mar | 101 <0x0A> 23-Mar | 101 <0x0A> 10-Mar | 101\n"
     ]
    },
    {
     "name": "stderr",
     "output_type": "stream",
     "text": [
      " 60%|██████    | 3/5 [00:21<00:15,  7.87s/it]"
     ]
    },
    {
     "name": "stdout",
     "output_type": "stream",
     "text": [
      "3.0125 | 11 <0x0A> 3.9864565217398645 | 12 <0x0A> 4.0125 | 12 <0x0A> 4.9864565217398645 | 14 <0x0A> 6.0125 | 12 <0x0A> 6.9864565217398645 | 14 <0x0A> 7.9864565217398645 | 18 <0x0A> 8.986456521739864 | 21 <0x0A> 9.986456521739864 | 22 <0x0A> 10.986456521739864 | 23 <0x0A> 11.986456521739864 | 23 <0x0A> 12.9864565217398645 | 24 <0x0A> 13.9864565217398645 | 25 <0x0A> 14.9864565217398645 | 26 <0x0A> 15.9864565217398645 | 29\n"
     ]
    },
    {
     "name": "stderr",
     "output_type": "stream",
     "text": [
      " 80%|████████  | 4/5 [00:22<00:05,  5.27s/it]"
     ]
    },
    {
     "name": "stdout",
     "output_type": "stream",
     "text": [
      "Group 1 | 3.6484848484848485 <0x0A> Group 2 | 8.384848484848485\n"
     ]
    },
    {
     "name": "stderr",
     "output_type": "stream",
     "text": [
      "100%|██████████| 5/5 [00:27<00:00,  5.60s/it]"
     ]
    },
    {
     "name": "stdout",
     "output_type": "stream",
     "text": [
      "0.0 | 0.013284015784015784 <0x0A> 0.4 | 0.013284015784015784 <0x0A> 0.8 | 0.013284015784015784 <0x0A> 1.2 | 0.013284015784015784 <0x0A> 1.6 | 0.013284015784015784 <0x0A> 2.0 | 0.013284015784015784 <0x0A> 2.4 | 0.013284015784015784\n"
     ]
    },
    {
     "name": "stderr",
     "output_type": "stream",
     "text": [
      "\n"
     ]
    }
   ],
   "source": [
    "IMAGE_FOLDER = \"/kaggle/input/benetech-making-graphs-accessible/test/images\"\n",
    "\n",
    "all_ids = []\n",
    "all_values = []\n",
    "all_chart_types = []\n",
    "\n",
    "for image_name in tqdm(os.listdir(IMAGE_FOLDER)):\n",
    "    if \".jpg\" not in image_name:\n",
    "        continue\n",
    "    try:\n",
    "        image_path = os.path.join(IMAGE_FOLDER, image_name)\n",
    "\n",
    "        graph_type = classification_inference(image_path)\n",
    "        inference_df = deplot_inference(image_path, False)\n",
    "        \n",
    "        x_values = inference_df[inference_df.columns[0]].values\n",
    "        y_values = inference_df[inference_df.columns[1]].values\n",
    "        \n",
    "        # check value type for each graph type\n",
    "        if graph_type in [\"horizontal_bar\", \"vertical_bar\", \"line\", \"dot\", \"scatter\"]:\n",
    "            # x is categorical, y is numerical\n",
    "            formatted_y_values = []\n",
    "            for v in y_values:\n",
    "                try:\n",
    "                    float(v)\n",
    "                    if math.isnan(float(v)):\n",
    "                        formatted_y_values.append(0)\n",
    "                    else:\n",
    "                        formatted_y_values.append(v)\n",
    "                except:\n",
    "                    formatted_y_values.append(0)\n",
    "                    \n",
    "            y_values = formatted_y_values\n",
    "        \n",
    "        if graph_type in [\"dot\", \"scatter\"]:\n",
    "            # for dot graph, x could be categorical as well as numerical, how to handle this?\n",
    "            # just leave all the value be numerical for now\n",
    "\n",
    "            formatted_x_values = []\n",
    "            for v in x_values:\n",
    "                try:\n",
    "                    float(v)\n",
    "                    if math.isnan(float(v)):\n",
    "                        formatted_x_values.append(0)\n",
    "                    else:\n",
    "                        formatted_x_values.append(v)\n",
    "                except:\n",
    "                    formatted_x_values.append(0)\n",
    "                    \n",
    "            x_values = formatted_x_values\n",
    "            \n",
    "        \n",
    "        length = min(len(x_values), len(y_values))\n",
    "        x_values = \";\".join([str(v).strip() for v in x_values][:length])\n",
    "        y_values = \";\".join([str(v).strip() for v in y_values][:length])\n",
    "    except Exception as e:\n",
    "        print(\"Exception\", e)\n",
    "        graph_type = \"line\"\n",
    "        x_values = \"0;0\"\n",
    "        y_values = \"0;0\"\n",
    "    \n",
    "    image_id = image_name.split(\".\")[0]\n",
    "\n",
    "    all_ids.append(image_id + \"_x\")\n",
    "    all_values.append(x_values)\n",
    "    \n",
    "    all_ids.append(image_id + \"_y\")\n",
    "    all_values.append(y_values)\n",
    "    \n",
    "    all_chart_types.extend([graph_type, graph_type])"
   ]
  },
  {
   "cell_type": "code",
   "execution_count": 12,
   "id": "c5fd0e9b",
   "metadata": {
    "execution": {
     "iopub.execute_input": "2023-06-15T15:19:56.236392Z",
     "iopub.status.busy": "2023-06-15T15:19:56.236095Z",
     "iopub.status.idle": "2023-06-15T15:19:56.252588Z",
     "shell.execute_reply": "2023-06-15T15:19:56.251499Z"
    },
    "papermill": {
     "duration": 0.025645,
     "end_time": "2023-06-15T15:19:56.255118",
     "exception": false,
     "start_time": "2023-06-15T15:19:56.229473",
     "status": "completed"
    },
    "tags": []
   },
   "outputs": [
    {
     "data": {
      "text/html": [
       "<div>\n",
       "<style scoped>\n",
       "    .dataframe tbody tr th:only-of-type {\n",
       "        vertical-align: middle;\n",
       "    }\n",
       "\n",
       "    .dataframe tbody tr th {\n",
       "        vertical-align: top;\n",
       "    }\n",
       "\n",
       "    .dataframe thead th {\n",
       "        text-align: right;\n",
       "    }\n",
       "</style>\n",
       "<table border=\"1\" class=\"dataframe\">\n",
       "  <thead>\n",
       "    <tr style=\"text-align: right;\">\n",
       "      <th></th>\n",
       "      <th>id</th>\n",
       "      <th>data_series</th>\n",
       "      <th>chart_type</th>\n",
       "    </tr>\n",
       "  </thead>\n",
       "  <tbody>\n",
       "    <tr>\n",
       "      <th>0</th>\n",
       "      <td>000b92c3b098_x</td>\n",
       "      <td>0;6;12;24</td>\n",
       "      <td>line</td>\n",
       "    </tr>\n",
       "    <tr>\n",
       "      <th>1</th>\n",
       "      <td>000b92c3b098_y</td>\n",
       "      <td>0;0;0;0</td>\n",
       "      <td>line</td>\n",
       "    </tr>\n",
       "    <tr>\n",
       "      <th>2</th>\n",
       "      <td>01b45b831589_x</td>\n",
       "      <td>2-1-fed;22-Fed;22-Fed;24-Fed;26-Fed;27-Fed;28-...</td>\n",
       "      <td>vertical_bar</td>\n",
       "    </tr>\n",
       "    <tr>\n",
       "      <th>3</th>\n",
       "      <td>01b45b831589_y</td>\n",
       "      <td>88625;150400;174200;180000;137800;40;40;60;65;...</td>\n",
       "      <td>vertical_bar</td>\n",
       "    </tr>\n",
       "    <tr>\n",
       "      <th>4</th>\n",
       "      <td>00f5404753cf_x</td>\n",
       "      <td>3.0125;3.9864565217398646;4.0125;4.98645652173...</td>\n",
       "      <td>scatter</td>\n",
       "    </tr>\n",
       "    <tr>\n",
       "      <th>5</th>\n",
       "      <td>00f5404753cf_y</td>\n",
       "      <td>11;12;12;14;12;14;18;21;22;23;23;24;25;26;29</td>\n",
       "      <td>scatter</td>\n",
       "    </tr>\n",
       "    <tr>\n",
       "      <th>6</th>\n",
       "      <td>00dcf883a459_x</td>\n",
       "      <td>Group 1;Group 2</td>\n",
       "      <td>vertical_bar</td>\n",
       "    </tr>\n",
       "    <tr>\n",
       "      <th>7</th>\n",
       "      <td>00dcf883a459_y</td>\n",
       "      <td>3.648484848484849;8.384848484848485</td>\n",
       "      <td>vertical_bar</td>\n",
       "    </tr>\n",
       "    <tr>\n",
       "      <th>8</th>\n",
       "      <td>007a18eb4e09_x</td>\n",
       "      <td>0.0;0.4;0.8;1.2;1.6;2.0;2.4</td>\n",
       "      <td>line</td>\n",
       "    </tr>\n",
       "    <tr>\n",
       "      <th>9</th>\n",
       "      <td>007a18eb4e09_y</td>\n",
       "      <td>0.0132840157840157;0.0132840157840157;0.013284...</td>\n",
       "      <td>line</td>\n",
       "    </tr>\n",
       "  </tbody>\n",
       "</table>\n",
       "</div>"
      ],
      "text/plain": [
       "               id                                        data_series  \\\n",
       "0  000b92c3b098_x                                          0;6;12;24   \n",
       "1  000b92c3b098_y                                            0;0;0;0   \n",
       "2  01b45b831589_x  2-1-fed;22-Fed;22-Fed;24-Fed;26-Fed;27-Fed;28-...   \n",
       "3  01b45b831589_y  88625;150400;174200;180000;137800;40;40;60;65;...   \n",
       "4  00f5404753cf_x  3.0125;3.9864565217398646;4.0125;4.98645652173...   \n",
       "5  00f5404753cf_y       11;12;12;14;12;14;18;21;22;23;23;24;25;26;29   \n",
       "6  00dcf883a459_x                                    Group 1;Group 2   \n",
       "7  00dcf883a459_y                3.648484848484849;8.384848484848485   \n",
       "8  007a18eb4e09_x                        0.0;0.4;0.8;1.2;1.6;2.0;2.4   \n",
       "9  007a18eb4e09_y  0.0132840157840157;0.0132840157840157;0.013284...   \n",
       "\n",
       "     chart_type  \n",
       "0          line  \n",
       "1          line  \n",
       "2  vertical_bar  \n",
       "3  vertical_bar  \n",
       "4       scatter  \n",
       "5       scatter  \n",
       "6  vertical_bar  \n",
       "7  vertical_bar  \n",
       "8          line  \n",
       "9          line  "
      ]
     },
     "execution_count": 12,
     "metadata": {},
     "output_type": "execute_result"
    }
   ],
   "source": [
    "submission_df = pd.DataFrame({\n",
    "    \"id\": all_ids,\n",
    "    \"data_series\": all_values,\n",
    "    \"chart_type\": all_chart_types\n",
    "})\n",
    "\n",
    "submission_df.to_csv(\"submission.csv\", index=False)\n",
    "submission_df"
   ]
  },
  {
   "cell_type": "code",
   "execution_count": 13,
   "id": "2a2f3b76",
   "metadata": {
    "execution": {
     "iopub.execute_input": "2023-06-15T15:19:56.268401Z",
     "iopub.status.busy": "2023-06-15T15:19:56.268137Z",
     "iopub.status.idle": "2023-06-15T15:19:57.284111Z",
     "shell.execute_reply": "2023-06-15T15:19:57.282825Z"
    },
    "papermill": {
     "duration": 1.02525,
     "end_time": "2023-06-15T15:19:57.286564",
     "exception": false,
     "start_time": "2023-06-15T15:19:56.261314",
     "status": "completed"
    },
    "tags": []
   },
   "outputs": [],
   "source": [
    "!rm -rf temp"
   ]
  }
 ],
 "metadata": {
  "kernelspec": {
   "display_name": "Python 3",
   "language": "python",
   "name": "python3"
  },
  "language_info": {
   "codemirror_mode": {
    "name": "ipython",
    "version": 3
   },
   "file_extension": ".py",
   "mimetype": "text/x-python",
   "name": "python",
   "nbconvert_exporter": "python",
   "pygments_lexer": "ipython3",
   "version": "3.10.10"
  },
  "papermill": {
   "default_parameters": {},
   "duration": 91.601554,
   "end_time": "2023-06-15T15:20:00.231145",
   "environment_variables": {},
   "exception": null,
   "input_path": "__notebook__.ipynb",
   "output_path": "__notebook__.ipynb",
   "parameters": {},
   "start_time": "2023-06-15T15:18:28.629591",
   "version": "2.4.0"
  }
 },
 "nbformat": 4,
 "nbformat_minor": 5
}
