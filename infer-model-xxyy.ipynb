{
 "cells": [
  {
   "cell_type": "code",
   "execution_count": 1,
   "id": "456a17c7",
   "metadata": {
    "_cell_guid": "b1076dfc-b9ad-4769-8c92-a6c4dae69d19",
    "_uuid": "8f2839f25d086af736a60e9eeb907d3b93b6e0e5",
    "execution": {
     "iopub.execute_input": "2023-06-19T14:18:00.924869Z",
     "iopub.status.busy": "2023-06-19T14:18:00.924509Z",
     "iopub.status.idle": "2023-06-19T14:18:00.929206Z",
     "shell.execute_reply": "2023-06-19T14:18:00.928391Z"
    },
    "papermill": {
     "duration": 0.01596,
     "end_time": "2023-06-19T14:18:00.933058",
     "exception": false,
     "start_time": "2023-06-19T14:18:00.917098",
     "status": "completed"
    },
    "tags": []
   },
   "outputs": [],
   "source": [
    "# !pip uninstall -y transformers\n",
    "# !mkdir temp && cp -r /kaggle/input/transformers/transformers-main temp/transformers && cd temp/transformers && python setup.py develop --no-deps"
   ]
  },
  {
   "cell_type": "code",
   "execution_count": 2,
   "id": "eef45d01",
   "metadata": {
    "execution": {
     "iopub.execute_input": "2023-06-19T14:18:00.945184Z",
     "iopub.status.busy": "2023-06-19T14:18:00.944697Z",
     "iopub.status.idle": "2023-06-19T14:18:12.377456Z",
     "shell.execute_reply": "2023-06-19T14:18:12.373489Z"
    },
    "papermill": {
     "duration": 11.442279,
     "end_time": "2023-06-19T14:18:12.380800",
     "exception": false,
     "start_time": "2023-06-19T14:18:00.938521",
     "status": "completed"
    },
    "tags": []
   },
   "outputs": [
    {
     "name": "stdout",
     "output_type": "stream",
     "text": [
      "Name: transformers\r\n",
      "Version: 4.30.1\r\n",
      "Summary: State-of-the-art Machine Learning for JAX, PyTorch and TensorFlow\r\n",
      "Home-page: https://github.com/huggingface/transformers\r\n",
      "Author: The Hugging Face team (past and future) with the help of all our contributors (https://github.com/huggingface/transformers/graphs/contributors)\r\n",
      "Author-email: transformers@huggingface.co\r\n",
      "License: Apache 2.0 License\r\n",
      "Location: /opt/conda/lib/python3.10/site-packages\r\n",
      "Requires: filelock, huggingface-hub, numpy, packaging, pyyaml, regex, requests, safetensors, tokenizers, tqdm\r\n",
      "Required-by: \r\n"
     ]
    }
   ],
   "source": [
    "!pip show transformers"
   ]
  },
  {
   "cell_type": "code",
   "execution_count": 3,
   "id": "0cd31a54",
   "metadata": {
    "execution": {
     "iopub.execute_input": "2023-06-19T14:18:12.393664Z",
     "iopub.status.busy": "2023-06-19T14:18:12.393342Z",
     "iopub.status.idle": "2023-06-19T14:18:12.397248Z",
     "shell.execute_reply": "2023-06-19T14:18:12.396554Z"
    },
    "papermill": {
     "duration": 0.012437,
     "end_time": "2023-06-19T14:18:12.399189",
     "exception": false,
     "start_time": "2023-06-19T14:18:12.386752",
     "status": "completed"
    },
    "tags": []
   },
   "outputs": [],
   "source": [
    "import sys\n",
    "sys.path.insert(0, \"/kaggle/working/temp/transformers/src/\")"
   ]
  },
  {
   "cell_type": "code",
   "execution_count": 4,
   "id": "2d6d9613",
   "metadata": {
    "execution": {
     "iopub.execute_input": "2023-06-19T14:18:12.411331Z",
     "iopub.status.busy": "2023-06-19T14:18:12.411066Z",
     "iopub.status.idle": "2023-06-19T14:18:27.551969Z",
     "shell.execute_reply": "2023-06-19T14:18:27.550940Z"
    },
    "papermill": {
     "duration": 15.149925,
     "end_time": "2023-06-19T14:18:27.554499",
     "exception": false,
     "start_time": "2023-06-19T14:18:12.404574",
     "status": "completed"
    },
    "tags": []
   },
   "outputs": [
    {
     "name": "stderr",
     "output_type": "stream",
     "text": [
      "/opt/conda/lib/python3.10/site-packages/tensorflow_io/python/ops/__init__.py:98: UserWarning: unable to load libtensorflow_io_plugins.so: unable to open file: libtensorflow_io_plugins.so, from paths: ['/opt/conda/lib/python3.10/site-packages/tensorflow_io/python/ops/libtensorflow_io_plugins.so']\n",
      "caused by: ['/opt/conda/lib/python3.10/site-packages/tensorflow_io/python/ops/libtensorflow_io_plugins.so: undefined symbol: _ZN3tsl6StatusC1EN10tensorflow5error4CodeESt17basic_string_viewIcSt11char_traitsIcEENS_14SourceLocationE']\n",
      "  warnings.warn(f\"unable to load libtensorflow_io_plugins.so: {e}\")\n",
      "/opt/conda/lib/python3.10/site-packages/tensorflow_io/python/ops/__init__.py:104: UserWarning: file system plugins are not loaded: unable to open file: libtensorflow_io.so, from paths: ['/opt/conda/lib/python3.10/site-packages/tensorflow_io/python/ops/libtensorflow_io.so']\n",
      "caused by: ['/opt/conda/lib/python3.10/site-packages/tensorflow_io/python/ops/libtensorflow_io.so: undefined symbol: _ZTVN10tensorflow13GcsFileSystemE']\n",
      "  warnings.warn(f\"file system plugins are not loaded: {e}\")\n"
     ]
    }
   ],
   "source": [
    "import pandas as pd\n",
    "import io\n",
    "import torch\n",
    "from transformers import Pix2StructForConditionalGeneration, Pix2StructProcessor, AutoConfig\n",
    "import requests\n",
    "from PIL import Image\n",
    "from PIL import ImageEnhance\n",
    "import re\n",
    "\n",
    "import torch\n",
    "import torchvision\n",
    "import torch.utils.data\n",
    "from torchvision import transforms\n",
    "import torch.nn as nn\n",
    "import torch.nn.functional as F\n",
    "import torch.optim as optim\n",
    "from torch.optim import lr_scheduler\n",
    "import albumentations as A\n",
    "from albumentations.pytorch import ToTensorV2\n",
    "\n",
    "import cv2\n",
    "import numpy as np\n",
    "\n",
    "import os\n",
    "from tqdm import tqdm\n",
    "import math"
   ]
  },
  {
   "cell_type": "code",
   "execution_count": 5,
   "id": "41b3f2e0",
   "metadata": {
    "execution": {
     "iopub.execute_input": "2023-06-19T14:18:27.567609Z",
     "iopub.status.busy": "2023-06-19T14:18:27.567299Z",
     "iopub.status.idle": "2023-06-19T14:18:27.579604Z",
     "shell.execute_reply": "2023-06-19T14:18:27.578731Z"
    },
    "papermill": {
     "duration": 0.021128,
     "end_time": "2023-06-19T14:18:27.581593",
     "exception": false,
     "start_time": "2023-06-19T14:18:27.560465",
     "status": "completed"
    },
    "tags": []
   },
   "outputs": [],
   "source": [
    "def display_deplot_output(deplot_output):\n",
    "    '''\n",
    "    The raw output of deplot\n",
    "    TITLE | Rural population (%) long-run with 2050 projections<0x0A>(OWID) in Greece<0x0A>Years | Rural population<0x0A>1940 | 47.38<0x0A>1960 | 43.68<0x0A>1980 | 30.28<0x0A>...\n",
    "    '''\n",
    "\n",
    "    # x1,x2 <> y1 y2\n",
    "    # x1 | y1 <0x0A> x2 | y2 <0x0A>\n",
    "    # label xxxxyyy xyxyxyxy\n",
    "    # <x_start><x_end> <y_start><y_end>\n",
    "\n",
    "#     deplot_output = deplot_output.replace(\"<0x0A>\", \"\\n\").replace(\" | \", \"\\t\")\n",
    "#     print(deplot_output)\n",
    "#     second_a_index = [m.start() for m in re.finditer('\\t', deplot_output)][1]\n",
    "#     last_newline_index = deplot_output.rfind('\\n', 0, second_a_index) \n",
    "\n",
    "#     title = deplot_output[:last_newline_index]\n",
    "#     table = deplot_output#[last_newline_index+1:]\n",
    "\n",
    "#     data = io.StringIO(table)\n",
    "#     df = pd.read_csv(data, sep='\\t', names=['x', 'y'])\n",
    "#     if visualize:\n",
    "#         display(df)\n",
    "#     deplot_output = deplot_output.split(\"<x_end> <y_start>\")\n",
    "#     x_values=deplot_output[0].split(\"<x_start>\")[1].split(\";\")\n",
    "#     y_values=deplot_output[1].split(\"<y_end>\")[0].split(\";\")\n",
    "    if \"<x_end><y_start>\" in deplot_output:\n",
    "        deplot_output = deplot_output.split(\"<x_end><y_start>\")\n",
    "    else:\n",
    "        deplot_output = deplot_output.split(\"<x_end> <y_start>\")\n",
    "    x_values=deplot_output[0].split(\"<x_start>\")[1].split(\";\")\n",
    "    y_values=deplot_output[1].split(\"<y_end>\")[0].split(\";\")\n",
    "    \n",
    "    return x_values, y_values\n",
    "    \n",
    "\n",
    "def deplot(path, model, processor, device, transforms=None):\n",
    "    if transforms:\n",
    "        image = cv2.imread(path)\n",
    "        image = cv2.cvtColor(image, cv2.COLOR_BGR2RGB)\n",
    "        image = transforms(image=image)['image']\n",
    "    else:\n",
    "        image = Image.open(path)\n",
    "#     w, h = image.size\n",
    "#     tosize = 500\n",
    "#     image = image.resize((tosize,int(tosize/w*h)),Image.Resampling.BICUBIC)\n",
    "    \n",
    "#     image = cv2.imread(path)\n",
    "    # 双边滤波\n",
    "#     image = cv2.bilateralFilter(src=image, d=0, sigmaColor=30, sigmaSpace=15)\n",
    "    \n",
    "#     # 对比度增强\n",
    "#     gray = cv2.cvtColor(image, cv2.COLOR_BGR2GRAY)\n",
    "#     clahe = cv2.createCLAHE(clipLimit=2.0, tileGridSize=(8,8))\n",
    "#     contrast = clahe.apply(gray)\n",
    "#     image = cv2.cvtColor(contrast, cv2.COLOR_BGR2RGB)\n",
    "\n",
    "#     # 修改图片尺寸大小\n",
    "#     h,w,c = image.shape\n",
    "#     tosize = 600\n",
    "#     image = cv2.resize(image,(tosize,int(tosize/w*h)-5),interpolation=cv2.INTER_LANCZOS4)\n",
    "    \n",
    "    \n",
    "    inputs = processor(images=image, \n",
    "                       font_path=\"../input/arial-font/arial.ttf\",\n",
    "                       text=\"Generate underlying data table of the figure below:\", \n",
    "                       return_tensors=\"pt\", \n",
    "                       add_special_tokens=True, \n",
    "                       max_patches=2048,\n",
    "                       is_vqa=False)\n",
    "\n",
    "    # Move inputs to GPU\n",
    "    inputs = {key: value.to(device) for key, value in inputs.items()}\n",
    "    with torch.cuda.amp.autocast():\n",
    "        predictions = model.generate(**inputs, max_new_tokens=512)\n",
    "#     predictions = model.generate(**inputs, max_new_tokens=512)\n",
    "    return processor.decode(predictions[0], skip_special_tokens=True)\n"
   ]
  },
  {
   "cell_type": "code",
   "execution_count": 6,
   "id": "b2d0ce48",
   "metadata": {
    "execution": {
     "iopub.execute_input": "2023-06-19T14:18:27.593791Z",
     "iopub.status.busy": "2023-06-19T14:18:27.593527Z",
     "iopub.status.idle": "2023-06-19T14:18:52.611654Z",
     "shell.execute_reply": "2023-06-19T14:18:52.610706Z"
    },
    "papermill": {
     "duration": 25.02691,
     "end_time": "2023-06-19T14:18:52.614100",
     "exception": false,
     "start_time": "2023-06-19T14:18:27.587190",
     "status": "completed"
    },
    "tags": []
   },
   "outputs": [
    {
     "data": {
      "text/plain": [
       "<All keys matched successfully>"
      ]
     },
     "execution_count": 6,
     "metadata": {},
     "output_type": "execute_result"
    }
   ],
   "source": [
    "device = torch.device(\"cuda\" if torch.cuda.is_available() else \"cpu\")\n",
    "\n",
    "deplot_weights_path = '/kaggle/input/matcha-base/matcha-base'\n",
    "processor = Pix2StructProcessor.from_pretrained(deplot_weights_path)\n",
    "\n",
    "model_path = '../input/checkpoints/best_matcha_xxyy_epoch_2_loss_0.6506.bin'  # 注意修改 max_patches 和 resize_token_embeddings\n",
    "deplot_model_all = Pix2StructForConditionalGeneration.from_pretrained(deplot_weights_path).to(device)\n",
    "# deplot_model_all.resize_token_embeddings(len(processor.tokenizer))\n",
    "deplot_model_all.config.text_config.is_decoder = True\n",
    "deplot_model_all.encoder.gradient_checkpointing_enable()\n",
    "deplot_model_all.decoder.gradient_checkpointing_enable()\n",
    "deplot_model_all.load_state_dict(torch.load(model_path))\n",
    "# processor.is_vqa = False"
   ]
  },
  {
   "cell_type": "code",
   "execution_count": 7,
   "id": "e5822bc5",
   "metadata": {
    "execution": {
     "iopub.execute_input": "2023-06-19T14:18:52.628382Z",
     "iopub.status.busy": "2023-06-19T14:18:52.627569Z",
     "iopub.status.idle": "2023-06-19T14:19:03.753203Z",
     "shell.execute_reply": "2023-06-19T14:19:03.752300Z"
    },
    "papermill": {
     "duration": 11.134862,
     "end_time": "2023-06-19T14:19:03.755197",
     "exception": false,
     "start_time": "2023-06-19T14:18:52.620335",
     "status": "completed"
    },
    "tags": []
   },
   "outputs": [
    {
     "data": {
      "text/plain": [
       "<All keys matched successfully>"
      ]
     },
     "execution_count": 7,
     "metadata": {},
     "output_type": "execute_result"
    }
   ],
   "source": [
    "model_path = '../input/checkpoints/matcha_horizontal_bar_epoch_0_loss_0.1652.bin'  # 注意修改 max_patches 和 resize_token_embeddings\n",
    "deplot_model_horizontal_bar = Pix2StructForConditionalGeneration.from_pretrained(deplot_weights_path).to(device)\n",
    "deplot_model_horizontal_bar.config.text_config.is_decoder = True\n",
    "deplot_model_horizontal_bar.encoder.gradient_checkpointing_enable()\n",
    "deplot_model_horizontal_bar.decoder.gradient_checkpointing_enable()\n",
    "deplot_model_horizontal_bar.load_state_dict(torch.load(model_path))"
   ]
  },
  {
   "cell_type": "code",
   "execution_count": 8,
   "id": "6ca1a9b9",
   "metadata": {
    "execution": {
     "iopub.execute_input": "2023-06-19T14:19:03.768850Z",
     "iopub.status.busy": "2023-06-19T14:19:03.768556Z",
     "iopub.status.idle": "2023-06-19T14:19:14.317360Z",
     "shell.execute_reply": "2023-06-19T14:19:14.316481Z"
    },
    "papermill": {
     "duration": 10.557971,
     "end_time": "2023-06-19T14:19:14.319593",
     "exception": false,
     "start_time": "2023-06-19T14:19:03.761622",
     "status": "completed"
    },
    "tags": []
   },
   "outputs": [
    {
     "data": {
      "text/plain": [
       "<All keys matched successfully>"
      ]
     },
     "execution_count": 8,
     "metadata": {},
     "output_type": "execute_result"
    }
   ],
   "source": [
    "model_path = '../input/checkpoints/matcha_xxyy_epoch_9_loss_0.7815.bin'  # 注意修改 max_patches 和 resize_token_embeddings\n",
    "deplot_model_scatter = Pix2StructForConditionalGeneration.from_pretrained(deplot_weights_path).to(device)\n",
    "deplot_model_scatter.config.text_config.is_decoder = True\n",
    "deplot_model_scatter.encoder.gradient_checkpointing_enable()\n",
    "deplot_model_scatter.decoder.gradient_checkpointing_enable()\n",
    "deplot_model_scatter.load_state_dict(torch.load(model_path))"
   ]
  },
  {
   "cell_type": "code",
   "execution_count": 9,
   "id": "e0b1857d",
   "metadata": {
    "execution": {
     "iopub.execute_input": "2023-06-19T14:19:14.334469Z",
     "iopub.status.busy": "2023-06-19T14:19:14.332853Z",
     "iopub.status.idle": "2023-06-19T14:19:14.338954Z",
     "shell.execute_reply": "2023-06-19T14:19:14.337995Z"
    },
    "papermill": {
     "duration": 0.015305,
     "end_time": "2023-06-19T14:19:14.341016",
     "exception": false,
     "start_time": "2023-06-19T14:19:14.325711",
     "status": "completed"
    },
    "tags": []
   },
   "outputs": [],
   "source": [
    "augments = A.Compose([\n",
    "        A.Resize(256, 256, p=1.0),\n",
    "        A.Normalize((0, 0, 0), (1, 1, 1), p=1.0),\n",
    "        ToTensorV2(),\n",
    "])"
   ]
  },
  {
   "cell_type": "code",
   "execution_count": 10,
   "id": "4435ebe2",
   "metadata": {
    "execution": {
     "iopub.execute_input": "2023-06-19T14:19:14.354083Z",
     "iopub.status.busy": "2023-06-19T14:19:14.353817Z",
     "iopub.status.idle": "2023-06-19T14:19:14.359142Z",
     "shell.execute_reply": "2023-06-19T14:19:14.358259Z"
    },
    "papermill": {
     "duration": 0.01412,
     "end_time": "2023-06-19T14:19:14.361132",
     "exception": false,
     "start_time": "2023-06-19T14:19:14.347012",
     "status": "completed"
    },
    "tags": []
   },
   "outputs": [],
   "source": [
    "def deplot_inference(image_path, chart_type):\n",
    "    if chart_type == 'horizontal_bar':\n",
    "        deplot_output=deplot(image_path, deplot_model_horizontal_bar, processor, device)\n",
    "    elif chart_type == 'scatter' or chart_type == 'line' :\n",
    "        deplot_output=deplot(image_path, deplot_model_scatter, processor, device)\n",
    "    else:\n",
    "#         deplot_output=deplot(image_path, deplot_model_all, processor, device)\n",
    "        deplot_output=deplot(image_path, deplot_model_all, processor, device, augments)\n",
    "#     print(image_path)\n",
    "#     print(chart_type)\n",
    "#     print(deplot_output)\n",
    "    return display_deplot_output(deplot_output)"
   ]
  },
  {
   "cell_type": "code",
   "execution_count": 11,
   "id": "91661c27",
   "metadata": {
    "execution": {
     "iopub.execute_input": "2023-06-19T14:19:14.373880Z",
     "iopub.status.busy": "2023-06-19T14:19:14.373624Z",
     "iopub.status.idle": "2023-06-19T14:19:14.381883Z",
     "shell.execute_reply": "2023-06-19T14:19:14.381082Z"
    },
    "papermill": {
     "duration": 0.017004,
     "end_time": "2023-06-19T14:19:14.383868",
     "exception": false,
     "start_time": "2023-06-19T14:19:14.366864",
     "status": "completed"
    },
    "tags": []
   },
   "outputs": [
    {
     "data": {
      "text/plain": [
       "{0: 'dot', 1: 'horizontal_bar', 2: 'vertical_bar', 3: 'line', 4: 'scatter'}"
      ]
     },
     "execution_count": 11,
     "metadata": {},
     "output_type": "execute_result"
    }
   ],
   "source": [
    "label_map = {'dot': 0, 'horizontal_bar' : 1, 'vertical_bar': 2, 'line': 3, 'scatter': 4}\n",
    "label_idx_to_classname = {v: k for k, v in label_map.items()}\n",
    "label_idx_to_classname"
   ]
  },
  {
   "cell_type": "code",
   "execution_count": 12,
   "id": "61e2d70f",
   "metadata": {
    "execution": {
     "iopub.execute_input": "2023-06-19T14:19:14.396927Z",
     "iopub.status.busy": "2023-06-19T14:19:14.396676Z",
     "iopub.status.idle": "2023-06-19T14:19:14.936332Z",
     "shell.execute_reply": "2023-06-19T14:19:14.935383Z"
    },
    "papermill": {
     "duration": 0.548525,
     "end_time": "2023-06-19T14:19:14.938479",
     "exception": false,
     "start_time": "2023-06-19T14:19:14.389954",
     "status": "completed"
    },
    "tags": []
   },
   "outputs": [
    {
     "name": "stderr",
     "output_type": "stream",
     "text": [
      "/opt/conda/lib/python3.10/site-packages/torchvision/models/_utils.py:208: UserWarning: The parameter 'pretrained' is deprecated since 0.13 and may be removed in the future, please use 'weights' instead.\n",
      "  warnings.warn(\n",
      "/opt/conda/lib/python3.10/site-packages/torchvision/models/_utils.py:223: UserWarning: Arguments other than a weight enum or `None` for 'weights' are deprecated since 0.13 and may be removed in the future. The current behavior is equivalent to passing `weights=None`.\n",
      "  warnings.warn(msg)\n"
     ]
    },
    {
     "data": {
      "text/plain": [
       "<All keys matched successfully>"
      ]
     },
     "execution_count": 12,
     "metadata": {},
     "output_type": "execute_result"
    }
   ],
   "source": [
    "# classification_model = torchvision.models.resnet50(pretrained=False)\n",
    "# num_features = classification_model.fc.in_features\n",
    "# classification_model.fc = nn.Linear(num_features, 5)\n",
    "\n",
    "classification_model = torchvision.models.efficientnet_b2(pretrained=False)\n",
    "classification_model.classifier = nn.Sequential(\n",
    "    nn.Dropout(p=0.3, inplace=True),\n",
    "    nn.Linear(1408, 5),\n",
    ")\n",
    "\n",
    "device = torch.device(\"cuda:0\" if torch.cuda.is_available() else \"cpu\")\n",
    "classification_model = classification_model.to(device)\n",
    "classification_model.eval()\n",
    "\n",
    "# state_dict = torch.load(\"../input/checkpoints/Benetech_ResNet50_Acc_87.2093.pth\")\n",
    "state_dict = torch.load(\"../input/checkpoints/Benetech_Efficientnet_B2_Acc_88.1932.pth\")\n",
    "classification_model.load_state_dict(state_dict)"
   ]
  },
  {
   "cell_type": "code",
   "execution_count": 13,
   "id": "eacf4cff",
   "metadata": {
    "execution": {
     "iopub.execute_input": "2023-06-19T14:19:14.952739Z",
     "iopub.status.busy": "2023-06-19T14:19:14.952445Z",
     "iopub.status.idle": "2023-06-19T14:19:14.959360Z",
     "shell.execute_reply": "2023-06-19T14:19:14.958488Z"
    },
    "papermill": {
     "duration": 0.016561,
     "end_time": "2023-06-19T14:19:14.961640",
     "exception": false,
     "start_time": "2023-06-19T14:19:14.945079",
     "status": "completed"
    },
    "tags": []
   },
   "outputs": [],
   "source": [
    "# val_transforms = transforms.Compose([\n",
    "#     transforms.Normalize((0.485, 0.456, 0.406), (0.229, 0.224, 0.225)),\n",
    "#     transforms.ToTensor(),\n",
    "# ])\n",
    "\n",
    "val_transforms = A.Compose([\n",
    "    A.Resize(288,288,p=1),\n",
    "#     A.Resize(500,300,p=1),\n",
    "#     A.Normalize((0.485, 0.456, 0.406), (0.229, 0.224, 0.225)),\n",
    "    A.Normalize((0.5, 0.5, 0.5), (0.5, 0.5, 0.5)),\n",
    "    ToTensorV2(),\n",
    "])\n",
    "\n",
    "def classification_inference(image_path):\n",
    "    img = cv2.imread(image_path)\n",
    "    img = cv2.cvtColor(img,cv2.COLOR_BGR2RGB)\n",
    "#     img = cv2.resize(img,(288,288))\n",
    "#     img = img.astype(np.float32)/255.0\n",
    "    img = val_transforms(image=img)['image']\n",
    "    \n",
    "#     print(img.shape)\n",
    "#     inp = torch.stack([img.permute(1, 2, 0)]).cuda()\n",
    "\n",
    "    inp = torch.stack([img]).cuda()\n",
    "#     with torch.cuda.amp.autocast():\n",
    "#         out = classification_model(inp).detach().cpu().numpy()\n",
    "    out = classification_model(inp).detach().cpu().numpy()\n",
    "    return label_idx_to_classname[np.argmax(out)]"
   ]
  },
  {
   "cell_type": "code",
   "execution_count": 14,
   "id": "442e4b20",
   "metadata": {
    "execution": {
     "iopub.execute_input": "2023-06-19T14:19:14.975162Z",
     "iopub.status.busy": "2023-06-19T14:19:14.974907Z",
     "iopub.status.idle": "2023-06-19T14:19:14.985898Z",
     "shell.execute_reply": "2023-06-19T14:19:14.985094Z"
    },
    "papermill": {
     "duration": 0.019995,
     "end_time": "2023-06-19T14:19:14.987858",
     "exception": false,
     "start_time": "2023-06-19T14:19:14.967863",
     "status": "completed"
    },
    "tags": []
   },
   "outputs": [
    {
     "data": {
      "text/plain": [
       "['/kaggle/input/benetech-making-graphs-accessible/test/images/000b92c3b098.jpg',\n",
       " '/kaggle/input/benetech-making-graphs-accessible/test/images/01b45b831589.jpg',\n",
       " '/kaggle/input/benetech-making-graphs-accessible/test/images/00f5404753cf.jpg',\n",
       " '/kaggle/input/benetech-making-graphs-accessible/test/images/00dcf883a459.jpg',\n",
       " '/kaggle/input/benetech-making-graphs-accessible/test/images/007a18eb4e09.jpg']"
      ]
     },
     "execution_count": 14,
     "metadata": {},
     "output_type": "execute_result"
    }
   ],
   "source": [
    "IMAGE_FOLDER = \"/kaggle/input/benetech-making-graphs-accessible/test/images\"\n",
    "\n",
    "images_name = os.listdir(IMAGE_FOLDER)\n",
    "images_path = [os.path.join(IMAGE_FOLDER, i) for i in images_name if \".jpg\" in i]\n",
    "images_path"
   ]
  },
  {
   "cell_type": "code",
   "execution_count": 15,
   "id": "caf1d742",
   "metadata": {
    "execution": {
     "iopub.execute_input": "2023-06-19T14:19:15.001759Z",
     "iopub.status.busy": "2023-06-19T14:19:15.001507Z",
     "iopub.status.idle": "2023-06-19T14:20:03.150281Z",
     "shell.execute_reply": "2023-06-19T14:20:03.149383Z"
    },
    "papermill": {
     "duration": 48.159579,
     "end_time": "2023-06-19T14:20:03.153725",
     "exception": false,
     "start_time": "2023-06-19T14:19:14.994146",
     "status": "completed"
    },
    "tags": []
   },
   "outputs": [
    {
     "name": "stderr",
     "output_type": "stream",
     "text": [
      "100%|██████████| 5/5 [00:04<00:00,  1.19it/s]\n",
      "5it [00:43,  8.79s/it]\n"
     ]
    }
   ],
   "source": [
    "from datetime import datetime\n",
    "\n",
    "chart_types_list = []\n",
    "x_values_list = []\n",
    "y_values_list = []\n",
    "\n",
    "for image_path in tqdm(images_path):\n",
    "    graph_type = classification_inference(image_path)\n",
    "    chart_types_list.append(graph_type)\n",
    "\n",
    "for image_path, chart_type in tqdm(zip(images_path,chart_types_list)):\n",
    "    try:\n",
    "        x_values, y_values = deplot_inference(image_path, chart_type)\n",
    "    except Exception as e:\n",
    "        print(\"Exception:\", e ,\", data:\", image_path)\n",
    "        x_values, y_values = ['0'], ['0']\n",
    "    x_values_list.append(x_values)\n",
    "    y_values_list.append(y_values)"
   ]
  },
  {
   "cell_type": "code",
   "execution_count": 16,
   "id": "d0fe650a",
   "metadata": {
    "execution": {
     "iopub.execute_input": "2023-06-19T14:20:03.169547Z",
     "iopub.status.busy": "2023-06-19T14:20:03.169245Z",
     "iopub.status.idle": "2023-06-19T14:20:03.188976Z",
     "shell.execute_reply": "2023-06-19T14:20:03.187932Z"
    },
    "papermill": {
     "duration": 0.030049,
     "end_time": "2023-06-19T14:20:03.191055",
     "exception": false,
     "start_time": "2023-06-19T14:20:03.161006",
     "status": "completed"
    },
    "tags": []
   },
   "outputs": [
    {
     "name": "stderr",
     "output_type": "stream",
     "text": [
      "5it [00:00, 10793.37it/s]\n"
     ]
    }
   ],
   "source": [
    "all_ids = []\n",
    "all_values = []\n",
    "all_chart_types = []\n",
    "\n",
    "for image_name, x_values, y_values, graph_type in tqdm(zip(images_name, x_values_list, y_values_list, chart_types_list)):\n",
    "#     start = datetime.now()\n",
    "    try:\n",
    "        if len(graph_type) == 0:\n",
    "            graph_type = \"line\"\n",
    "            \n",
    "        x_len = len(x_values) \n",
    "        y_len = len(y_values) \n",
    "        if x_len == 0:\n",
    "            x_values.append(\"0\")\n",
    "        if y_len == 0:\n",
    "            y_values.append(\"0\")\n",
    "        \n",
    "#         print(x_values)\n",
    "#         print(y_values)\n",
    "        \n",
    "    \n",
    "        formatted_y_values = []\n",
    "        formatted_x_values = []\n",
    "        # check value type for each graph type\n",
    "        if graph_type in [\"horizontal_bar\", \"vertical_bar\", \"line\", \"dot\", \"scatter\"]:\n",
    "            # x is categorical, y is numerical\n",
    "            \n",
    "            for y in y_values:\n",
    "                try:\n",
    "                    v = float(y)\n",
    "                    if math.isnan(v) or math.isinf(v):\n",
    "                        formatted_y_values.append(0)\n",
    "                    else:\n",
    "                        formatted_y_values.append(v)\n",
    "                except:\n",
    "                    if len(y) == 0:\n",
    "                        formatted_y_values.append(0)\n",
    "                    else:\n",
    "                        formatted_y_values.append(y)\n",
    "                        \n",
    "            for x in x_values:\n",
    "                if len(x) == 0:\n",
    "                    formatted_x_values.append(0)\n",
    "                else:\n",
    "                    formatted_x_values.append(x)\n",
    "        \n",
    "        elif graph_type in [\"dot\", \"scatter\"]:\n",
    "            # for dot graph, x could be categorical as well as numerical, how to handle this?\n",
    "            # just leave all the value be numerical for now\n",
    "            \n",
    "            for x in x_values:\n",
    "                try:\n",
    "                    v = float(x)\n",
    "                    if math.isnan(v) or math.isinf(v):\n",
    "                        formatted_x_values.append(0)\n",
    "                    else:\n",
    "                        formatted_x_values.append(v)\n",
    "                except:\n",
    "                    if len(x) == 0:\n",
    "                        formatted_y_values.append(0)\n",
    "                    else:\n",
    "                        formatted_y_values.append(x)\n",
    "            for y in y_values:\n",
    "                if len(y) == 0:\n",
    "                    formatted_y_values.append(0)\n",
    "                else:\n",
    "                    formatted_y_values.append(y)\n",
    "                \n",
    "        x_values = formatted_x_values\n",
    "        y_values = formatted_y_values\n",
    "                                   \n",
    "        length = min(x_len, y_len)\n",
    "        x_values = \";\".join([str(v).strip() for v in x_values][:length])\n",
    "        y_values = \";\".join([str(v).strip() for v in y_values][:length])\n",
    "    except Exception as e:\n",
    "        print(\"Exception\", e)\n",
    "        graph_type = \"line\"\n",
    "        x_values = \"0;0\"\n",
    "        y_values = \"0;0\"\n",
    "        \n",
    "#     print()\n",
    "#     print(x_values)\n",
    "#     print(y_values)\n",
    "#     print()\n",
    "\n",
    "    image_id = image_name.split(\".\")[0]\n",
    "\n",
    "    all_ids.append(image_id + \"_x\")\n",
    "    all_values.append(x_values)\n",
    "    all_ids.append(image_id + \"_y\")\n",
    "    all_values.append(y_values)\n",
    "    all_chart_types.extend([graph_type, graph_type])\n",
    "    \n",
    "#     end = datetime.now()\n",
    "#     print(end-start)"
   ]
  },
  {
   "cell_type": "code",
   "execution_count": 17,
   "id": "29791b63",
   "metadata": {
    "execution": {
     "iopub.execute_input": "2023-06-19T14:20:03.208250Z",
     "iopub.status.busy": "2023-06-19T14:20:03.207967Z",
     "iopub.status.idle": "2023-06-19T14:20:03.242589Z",
     "shell.execute_reply": "2023-06-19T14:20:03.241559Z"
    },
    "papermill": {
     "duration": 0.045726,
     "end_time": "2023-06-19T14:20:03.244587",
     "exception": false,
     "start_time": "2023-06-19T14:20:03.198861",
     "status": "completed"
    },
    "tags": []
   },
   "outputs": [
    {
     "data": {
      "text/html": [
       "<div>\n",
       "<style scoped>\n",
       "    .dataframe tbody tr th:only-of-type {\n",
       "        vertical-align: middle;\n",
       "    }\n",
       "\n",
       "    .dataframe tbody tr th {\n",
       "        vertical-align: top;\n",
       "    }\n",
       "\n",
       "    .dataframe thead th {\n",
       "        text-align: right;\n",
       "    }\n",
       "</style>\n",
       "<table border=\"1\" class=\"dataframe\">\n",
       "  <thead>\n",
       "    <tr style=\"text-align: right;\">\n",
       "      <th></th>\n",
       "      <th>id</th>\n",
       "      <th>data_series</th>\n",
       "      <th>chart_type</th>\n",
       "    </tr>\n",
       "  </thead>\n",
       "  <tbody>\n",
       "    <tr>\n",
       "      <th>0</th>\n",
       "      <td>000b92c3b098_x</td>\n",
       "      <td>0;6;12;18;24</td>\n",
       "      <td>line</td>\n",
       "    </tr>\n",
       "    <tr>\n",
       "      <th>1</th>\n",
       "      <td>000b92c3b098_y</td>\n",
       "      <td>0.01375;-1.357142857142857;-2.666666666666666;...</td>\n",
       "      <td>line</td>\n",
       "    </tr>\n",
       "    <tr>\n",
       "      <th>2</th>\n",
       "      <td>01b45b831589_x</td>\n",
       "      <td>21-Fed;22-Fed;23-Fed;24-Fed;25-Fed;27-Fed;28-F...</td>\n",
       "      <td>vertical_bar</td>\n",
       "    </tr>\n",
       "    <tr>\n",
       "      <th>3</th>\n",
       "      <td>01b45b831589_y</td>\n",
       "      <td>88888.88888888889;149888.8888888889;171428.188...</td>\n",
       "      <td>vertical_bar</td>\n",
       "    </tr>\n",
       "    <tr>\n",
       "      <th>4</th>\n",
       "      <td>00f5404753cf_x</td>\n",
       "      <td>3.0303030303030305;3.9898989898989903;4.989898...</td>\n",
       "      <td>scatter</td>\n",
       "    </tr>\n",
       "    <tr>\n",
       "      <th>5</th>\n",
       "      <td>00f5404753cf_y</td>\n",
       "      <td>11.984422222222221;12.025675675675677;12.02567...</td>\n",
       "      <td>scatter</td>\n",
       "    </tr>\n",
       "    <tr>\n",
       "      <th>6</th>\n",
       "      <td>00dcf883a459_x</td>\n",
       "      <td>Group 1;Group 2</td>\n",
       "      <td>vertical_bar</td>\n",
       "    </tr>\n",
       "    <tr>\n",
       "      <th>7</th>\n",
       "      <td>00dcf883a459_y</td>\n",
       "      <td>3.811111111111111;8.61111111111111</td>\n",
       "      <td>vertical_bar</td>\n",
       "    </tr>\n",
       "    <tr>\n",
       "      <th>8</th>\n",
       "      <td>007a18eb4e09_x</td>\n",
       "      <td>0.0;0.4;0.8;1.2;1.6;2.0;2.4</td>\n",
       "      <td>line</td>\n",
       "    </tr>\n",
       "    <tr>\n",
       "      <th>9</th>\n",
       "      <td>007a18eb4e09_y</td>\n",
       "      <td>0.013275862068965517;0.013275862068965517;0.01...</td>\n",
       "      <td>line</td>\n",
       "    </tr>\n",
       "  </tbody>\n",
       "</table>\n",
       "</div>"
      ],
      "text/plain": [
       "               id                                        data_series  \\\n",
       "0  000b92c3b098_x                                       0;6;12;18;24   \n",
       "1  000b92c3b098_y  0.01375;-1.357142857142857;-2.666666666666666;...   \n",
       "2  01b45b831589_x  21-Fed;22-Fed;23-Fed;24-Fed;25-Fed;27-Fed;28-F...   \n",
       "3  01b45b831589_y  88888.88888888889;149888.8888888889;171428.188...   \n",
       "4  00f5404753cf_x  3.0303030303030305;3.9898989898989903;4.989898...   \n",
       "5  00f5404753cf_y  11.984422222222221;12.025675675675677;12.02567...   \n",
       "6  00dcf883a459_x                                    Group 1;Group 2   \n",
       "7  00dcf883a459_y                 3.811111111111111;8.61111111111111   \n",
       "8  007a18eb4e09_x                        0.0;0.4;0.8;1.2;1.6;2.0;2.4   \n",
       "9  007a18eb4e09_y  0.013275862068965517;0.013275862068965517;0.01...   \n",
       "\n",
       "     chart_type  \n",
       "0          line  \n",
       "1          line  \n",
       "2  vertical_bar  \n",
       "3  vertical_bar  \n",
       "4       scatter  \n",
       "5       scatter  \n",
       "6  vertical_bar  \n",
       "7  vertical_bar  \n",
       "8          line  \n",
       "9          line  "
      ]
     },
     "execution_count": 17,
     "metadata": {},
     "output_type": "execute_result"
    }
   ],
   "source": [
    "submission_df = pd.DataFrame({\n",
    "    \"id\": all_ids,\n",
    "    \"data_series\": all_values,\n",
    "    \"chart_type\": all_chart_types\n",
    "})\n",
    "\n",
    "submission_df.to_csv(\"submission.csv\", index=False)\n",
    "submission_df"
   ]
  },
  {
   "cell_type": "code",
   "execution_count": 18,
   "id": "7748d6a5",
   "metadata": {
    "execution": {
     "iopub.execute_input": "2023-06-19T14:20:03.262399Z",
     "iopub.status.busy": "2023-06-19T14:20:03.261599Z",
     "iopub.status.idle": "2023-06-19T14:20:04.311578Z",
     "shell.execute_reply": "2023-06-19T14:20:04.310294Z"
    },
    "papermill": {
     "duration": 1.061443,
     "end_time": "2023-06-19T14:20:04.314319",
     "exception": false,
     "start_time": "2023-06-19T14:20:03.252876",
     "status": "completed"
    },
    "tags": []
   },
   "outputs": [],
   "source": [
    "!rm -rf temp"
   ]
  }
 ],
 "metadata": {
  "kernelspec": {
   "display_name": "Python 3",
   "language": "python",
   "name": "python3"
  },
  "language_info": {
   "codemirror_mode": {
    "name": "ipython",
    "version": 3
   },
   "file_extension": ".py",
   "mimetype": "text/x-python",
   "name": "python",
   "nbconvert_exporter": "python",
   "pygments_lexer": "ipython3",
   "version": "3.10.10"
  },
  "papermill": {
   "default_parameters": {},
   "duration": 137.800161,
   "end_time": "2023-06-19T14:20:08.043870",
   "environment_variables": {},
   "exception": null,
   "input_path": "__notebook__.ipynb",
   "output_path": "__notebook__.ipynb",
   "parameters": {},
   "start_time": "2023-06-19T14:17:50.243709",
   "version": "2.4.0"
  }
 },
 "nbformat": 4,
 "nbformat_minor": 5
}
